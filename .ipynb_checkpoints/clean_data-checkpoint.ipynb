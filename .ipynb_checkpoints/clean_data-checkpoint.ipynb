{
 "cells": [
  {
   "cell_type": "code",
   "execution_count": 38,
   "metadata": {},
   "outputs": [],
   "source": [
    "import os\n",
    "import pandas as pd\n",
    "import numpy\n",
    "\n",
    "\n",
    "train_path = '/Users/xutian/Documents/Dev/dartmouth/research/mimic4-analyze/data/invasive-ventilation/train'\n",
    "test_path = '/Users/xutian/Documents/Dev/dartmouth/research/mimic4-analyze/data/invasive-ventilation/test'\n"
   ]
  },
  {
   "cell_type": "code",
   "execution_count": 92,
   "metadata": {},
   "outputs": [],
   "source": [
    "def clean_data(path):\n",
    "    files = os.listdir(path)\n",
    "    for f in files:\n",
    "        print(f)\n",
    "        path_file = os.path.join(path, f)\n",
    "        data = pd.read_csv(path_file)\n",
    "        indices_to_keep = []\n",
    "    \n",
    "        for i in range(data.shape[0] - 1):\n",
    "            cur_e = data.iloc[i]\n",
    "            next_e = data.iloc[i + 1]\n",
    "        \n",
    "            if cur_e['Hours'] != next_e['Hours']:\n",
    "                indices_to_keep.append(i)\n",
    "            \n",
    "    \n",
    "        indices_to_keep.append(data.shape[0] - 1)\n",
    "    \n",
    "        data_new = data.iloc[indices_to_keep]\n",
    "        data_new.reset_index(inplace=True)\n",
    "        data_new.to_csv(path_file)\n"
   ]
  },
  {
   "cell_type": "code",
   "execution_count": null,
   "metadata": {},
   "outputs": [],
   "source": [
    "clean_data(train_path)"
   ]
  },
  {
   "cell_type": "code",
   "execution_count": 8,
   "metadata": {},
   "outputs": [
    {
     "name": "stdout",
     "output_type": "stream",
     "text": [
      "   id  price     name  amount\n",
      "0   1    123     anna       1\n",
      "1   1      7     anna       2\n",
      "2   2     42      bob      30\n",
      "3   3      1  charlie      10\n",
      "4   3      2    david     100\n",
      "   id  price     name\n",
      "0   1    123     anna\n",
      "1   2     42      bob\n",
      "2   3      1  charlie\n"
     ]
    }
   ],
   "source": [
    "df = pd.DataFrame([{'id': 1, 'price': 123, 'name': 'anna', 'amount': 1},\n",
    "                   {'id': 1, 'price':   7, 'name': 'anna', 'amount': 2},\n",
    "                   {'id': 2, 'price':  42, 'name': 'bob', 'amount': 30},\n",
    "                   {'id': 3, 'price':   1, 'name': 'charlie', 'amount': 10},\n",
    "                   {'id': 3, 'price':   2, 'name': 'david', 'amount': 100}])\n",
    "\n",
    "print(df)\n",
    "aggregation_functions = {'price': 'first', 'name': 'first'}\n",
    "df_new = df.groupby(df['id']).aggregate(aggregation_functions)\n",
    "df_new.reset_index(inplace=True)\n",
    "# df_new = df_new.reset\n",
    "print(df_new)\n"
   ]
  },
  {
   "cell_type": "code",
   "execution_count": null,
   "metadata": {},
   "outputs": [],
   "source": []
  }
 ],
 "metadata": {
  "kernelspec": {
   "display_name": "Python 3",
   "language": "python",
   "name": "python3"
  },
  "language_info": {
   "codemirror_mode": {
    "name": "ipython",
    "version": 3
   },
   "file_extension": ".py",
   "mimetype": "text/x-python",
   "name": "python",
   "nbconvert_exporter": "python",
   "pygments_lexer": "ipython3",
   "version": "3.7.7"
  }
 },
 "nbformat": 4,
 "nbformat_minor": 4
}
