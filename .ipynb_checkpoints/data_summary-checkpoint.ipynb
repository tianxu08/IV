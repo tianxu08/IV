{
 "cells": [
  {
   "cell_type": "code",
   "execution_count": 19,
   "metadata": {},
   "outputs": [],
   "source": [
    "import pandas as pd\n",
    "import numpy as np\n",
    "import os\n",
    "\n"
   ]
  },
  {
   "cell_type": "code",
   "execution_count": 20,
   "metadata": {},
   "outputs": [
    {
     "name": "stdout",
     "output_type": "stream",
     "text": [
      "Index(['stay', 'period_length', 'y_true'], dtype='object')\n",
      "3786\n",
      "455\n"
     ]
    }
   ],
   "source": [
    "test_path = '/Users/xutian/Documents/Dev/dartmouth/research/mimic4-analyze/data/invasive-ventilation_without_last_iv/test'\n",
    "\n",
    "test_file = 'listfile.csv'\n",
    "test = pd.read_csv(os.path.join(path, test_file))\n",
    "print(test.columns)\n",
    "\n",
    "# print(test['y_true'])\n",
    "test_positive = test[test['y_true'] == 1]\n",
    "print(test_positive.shape[0])\n",
    "\n",
    "test_negative = test[test['y_true'] == 0]\n",
    "print(test_negative.shape[0])"
   ]
  },
  {
   "cell_type": "code",
   "execution_count": 21,
   "metadata": {},
   "outputs": [
    {
     "name": "stdout",
     "output_type": "stream",
     "text": [
      "Index(['stay', 'period_length', 'y_true'], dtype='object')\n",
      "15556\n",
      "3807\n"
     ]
    }
   ],
   "source": [
    "train_path = '/Users/xutian/Documents/Dev/dartmouth/research/mimic4-analyze/data/invasive-ventilation_without_last_iv/train'\n",
    "\n",
    "train_file = 'listfile.csv'\n",
    "train = pd.read_csv(os.path.join(train_path, train_file))\n",
    "print(train.columns)\n",
    "\n",
    "# print(train['y_true'])\n",
    "train_positive = train[train['y_true'] == 1]\n",
    "print(train_positive.shape[0])\n",
    "\n",
    "train_negative = train[train['y_true'] == 0]\n",
    "print(train_negative.shape[0])"
   ]
  },
  {
   "cell_type": "code",
   "execution_count": null,
   "metadata": {},
   "outputs": [],
   "source": [
    "test2_path = '/Users/xutian/Documents/Dev/dartmouth/research/mimic4-analyze/data/invasive-ventilation/test'\n",
    "\n",
    "test2_file = 'listfile.csv'\n",
    "test2 = pd.read_csv(os.path.join(test2_path, test2_file))\n",
    "print(test2.columns)\n",
    "\n",
    "# print(test['y_true'])\n",
    "test2_positive = test2[test2['y_true'] == 1]\n",
    "print(test2_positive.shape[0])\n",
    "\n",
    "test2_negative = test2[test2['y_true'] == 0]\n",
    "print(test2_negative.shape[0])"
   ]
  },
  {
   "cell_type": "code",
   "execution_count": null,
   "metadata": {},
   "outputs": [],
   "source": [
    "train2_path = '/Users/xutian/Documents/Dev/dartmouth/research/mimic4-analyze/data/invasive-ventilation/train'\n",
    "\n",
    "train2_file = 'listfile.csv'\n",
    "train2 = pd.read_csv(os.path.join(train2_path, train2_file))\n",
    "print(train2.columns)\n",
    "\n",
    "# print(train['y_true'])\n",
    "train2_positive = train2[train2['y_true'] == 1]\n",
    "print(train2_positive.shape[0])\n",
    "\n",
    "train2_negative = train2[train2['y_true'] == 0]\n",
    "print(train2_negative.shape[0])"
   ]
  }
 ],
 "metadata": {
  "kernelspec": {
   "display_name": "Python 3",
   "language": "python",
   "name": "python3"
  },
  "language_info": {
   "codemirror_mode": {
    "name": "ipython",
    "version": 3
   },
   "file_extension": ".py",
   "mimetype": "text/x-python",
   "name": "python",
   "nbconvert_exporter": "python",
   "pygments_lexer": "ipython3",
   "version": "3.7.7"
  }
 },
 "nbformat": 4,
 "nbformat_minor": 4
}
